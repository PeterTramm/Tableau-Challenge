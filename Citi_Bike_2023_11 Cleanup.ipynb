{
 "cells": [
  {
   "cell_type": "code",
   "execution_count": 1,
   "id": "afd725c1",
   "metadata": {},
   "outputs": [],
   "source": [
    "#Import modules\n",
    "import os\n",
    "import pandas as pd \n",
    "import sys\n",
    "import numpy as np\n",
    "import math\n",
    "\n",
    "#Set print options\n",
    "np.set_printoptions(threshold=sys.maxsize)"
   ]
  },
  {
   "cell_type": "code",
   "execution_count": 3,
   "id": "e2959d84",
   "metadata": {},
   "outputs": [
    {
     "data": {
      "text/html": [
       "<div>\n",
       "<style scoped>\n",
       "    .dataframe tbody tr th:only-of-type {\n",
       "        vertical-align: middle;\n",
       "    }\n",
       "\n",
       "    .dataframe tbody tr th {\n",
       "        vertical-align: top;\n",
       "    }\n",
       "\n",
       "    .dataframe thead th {\n",
       "        text-align: right;\n",
       "    }\n",
       "</style>\n",
       "<table border=\"1\" class=\"dataframe\">\n",
       "  <thead>\n",
       "    <tr style=\"text-align: right;\">\n",
       "      <th></th>\n",
       "      <th>ride_id</th>\n",
       "      <th>rideable_type</th>\n",
       "      <th>started_at</th>\n",
       "      <th>ended_at</th>\n",
       "      <th>start_station_name</th>\n",
       "      <th>start_station_id</th>\n",
       "      <th>end_station_name</th>\n",
       "      <th>end_station_id</th>\n",
       "      <th>start_lat</th>\n",
       "      <th>start_lng</th>\n",
       "      <th>end_lat</th>\n",
       "      <th>end_lng</th>\n",
       "      <th>member_casual</th>\n",
       "    </tr>\n",
       "  </thead>\n",
       "  <tbody>\n",
       "    <tr>\n",
       "      <th>0</th>\n",
       "      <td>1156A0D0E2EB60CB</td>\n",
       "      <td>classic_bike</td>\n",
       "      <td>2023-11-19 12:08:48</td>\n",
       "      <td>2023-11-19 12:28:53</td>\n",
       "      <td>Jackson Square</td>\n",
       "      <td>JC063</td>\n",
       "      <td>Baldwin at Montgomery</td>\n",
       "      <td>JC020</td>\n",
       "      <td>40.711130</td>\n",
       "      <td>-74.078900</td>\n",
       "      <td>40.723659</td>\n",
       "      <td>-74.064194</td>\n",
       "      <td>casual</td>\n",
       "    </tr>\n",
       "    <tr>\n",
       "      <th>1</th>\n",
       "      <td>9A6D99BAED3AE106</td>\n",
       "      <td>classic_bike</td>\n",
       "      <td>2023-11-05 18:21:56</td>\n",
       "      <td>2023-11-05 18:25:36</td>\n",
       "      <td>Madison St &amp; 10 St</td>\n",
       "      <td>HB503</td>\n",
       "      <td>Mama Johnson Field - 4 St &amp; Jackson St</td>\n",
       "      <td>HB404</td>\n",
       "      <td>40.750044</td>\n",
       "      <td>-74.035878</td>\n",
       "      <td>40.743140</td>\n",
       "      <td>-74.040041</td>\n",
       "      <td>casual</td>\n",
       "    </tr>\n",
       "    <tr>\n",
       "      <th>2</th>\n",
       "      <td>CC3F75A6310A2625</td>\n",
       "      <td>classic_bike</td>\n",
       "      <td>2023-11-12 11:36:41</td>\n",
       "      <td>2023-11-12 11:42:04</td>\n",
       "      <td>Madison St &amp; 10 St</td>\n",
       "      <td>HB503</td>\n",
       "      <td>Mama Johnson Field - 4 St &amp; Jackson St</td>\n",
       "      <td>HB404</td>\n",
       "      <td>40.750100</td>\n",
       "      <td>-74.035852</td>\n",
       "      <td>40.743140</td>\n",
       "      <td>-74.040041</td>\n",
       "      <td>casual</td>\n",
       "    </tr>\n",
       "    <tr>\n",
       "      <th>3</th>\n",
       "      <td>3BF4E21F0D5BCB98</td>\n",
       "      <td>classic_bike</td>\n",
       "      <td>2023-11-08 15:04:23</td>\n",
       "      <td>2023-11-08 15:20:23</td>\n",
       "      <td>Jackson Square</td>\n",
       "      <td>JC063</td>\n",
       "      <td>Hilltop</td>\n",
       "      <td>JC019</td>\n",
       "      <td>40.711130</td>\n",
       "      <td>-74.078900</td>\n",
       "      <td>40.731169</td>\n",
       "      <td>-74.057574</td>\n",
       "      <td>member</td>\n",
       "    </tr>\n",
       "    <tr>\n",
       "      <th>4</th>\n",
       "      <td>1B7E5ADCABC46F0E</td>\n",
       "      <td>classic_bike</td>\n",
       "      <td>2023-11-22 09:08:22</td>\n",
       "      <td>2023-11-22 09:14:23</td>\n",
       "      <td>Mama Johnson Field - 4 St &amp; Jackson St</td>\n",
       "      <td>HB404</td>\n",
       "      <td>River St &amp; 1 St</td>\n",
       "      <td>HB609</td>\n",
       "      <td>40.743148</td>\n",
       "      <td>-74.040053</td>\n",
       "      <td>40.737215</td>\n",
       "      <td>-74.028865</td>\n",
       "      <td>member</td>\n",
       "    </tr>\n",
       "  </tbody>\n",
       "</table>\n",
       "</div>"
      ],
      "text/plain": [
       "            ride_id rideable_type           started_at             ended_at  \\\n",
       "0  1156A0D0E2EB60CB  classic_bike  2023-11-19 12:08:48  2023-11-19 12:28:53   \n",
       "1  9A6D99BAED3AE106  classic_bike  2023-11-05 18:21:56  2023-11-05 18:25:36   \n",
       "2  CC3F75A6310A2625  classic_bike  2023-11-12 11:36:41  2023-11-12 11:42:04   \n",
       "3  3BF4E21F0D5BCB98  classic_bike  2023-11-08 15:04:23  2023-11-08 15:20:23   \n",
       "4  1B7E5ADCABC46F0E  classic_bike  2023-11-22 09:08:22  2023-11-22 09:14:23   \n",
       "\n",
       "                       start_station_name start_station_id  \\\n",
       "0                          Jackson Square            JC063   \n",
       "1                      Madison St & 10 St            HB503   \n",
       "2                      Madison St & 10 St            HB503   \n",
       "3                          Jackson Square            JC063   \n",
       "4  Mama Johnson Field - 4 St & Jackson St            HB404   \n",
       "\n",
       "                         end_station_name end_station_id  start_lat  \\\n",
       "0                   Baldwin at Montgomery          JC020  40.711130   \n",
       "1  Mama Johnson Field - 4 St & Jackson St          HB404  40.750044   \n",
       "2  Mama Johnson Field - 4 St & Jackson St          HB404  40.750100   \n",
       "3                                 Hilltop          JC019  40.711130   \n",
       "4                         River St & 1 St          HB609  40.743148   \n",
       "\n",
       "   start_lng    end_lat    end_lng member_casual  \n",
       "0 -74.078900  40.723659 -74.064194        casual  \n",
       "1 -74.035878  40.743140 -74.040041        casual  \n",
       "2 -74.035852  40.743140 -74.040041        casual  \n",
       "3 -74.078900  40.731169 -74.057574        member  \n",
       "4 -74.040053  40.737215 -74.028865        member  "
      ]
     },
     "execution_count": 3,
     "metadata": {},
     "output_type": "execute_result"
    }
   ],
   "source": [
    "path = \"Resources/JC-202311-citibike-tripdata.csv\"\n",
    "\n",
    "Bike_2023_11 = pd.read_csv(path)\n",
    "\n",
    "Bike_2023_11.head()"
   ]
  },
  {
   "cell_type": "code",
   "execution_count": 4,
   "id": "fd8f90ff",
   "metadata": {},
   "outputs": [
    {
     "data": {
      "text/plain": [
       "75646"
      ]
     },
     "execution_count": 4,
     "metadata": {},
     "output_type": "execute_result"
    }
   ],
   "source": [
    "len(Bike_2023_11)"
   ]
  },
  {
   "cell_type": "code",
   "execution_count": 5,
   "id": "922ba2d8",
   "metadata": {},
   "outputs": [
    {
     "name": "stdout",
     "output_type": "stream",
     "text": [
      "<class 'pandas.core.frame.DataFrame'>\n",
      "RangeIndex: 75646 entries, 0 to 75645\n",
      "Data columns (total 13 columns):\n",
      " #   Column              Non-Null Count  Dtype  \n",
      "---  ------              --------------  -----  \n",
      " 0   ride_id             75646 non-null  object \n",
      " 1   rideable_type       75646 non-null  object \n",
      " 2   started_at          75646 non-null  object \n",
      " 3   ended_at            75646 non-null  object \n",
      " 4   start_station_name  75637 non-null  object \n",
      " 5   start_station_id    75637 non-null  object \n",
      " 6   end_station_name    75407 non-null  object \n",
      " 7   end_station_id      75407 non-null  object \n",
      " 8   start_lat           75646 non-null  float64\n",
      " 9   start_lng           75646 non-null  float64\n",
      " 10  end_lat             75615 non-null  float64\n",
      " 11  end_lng             75615 non-null  float64\n",
      " 12  member_casual       75646 non-null  object \n",
      "dtypes: float64(4), object(9)\n",
      "memory usage: 7.5+ MB\n"
     ]
    }
   ],
   "source": [
    "Bike_2023_11.info()"
   ]
  },
  {
   "cell_type": "code",
   "execution_count": null,
   "id": "cb516eb6",
   "metadata": {},
   "outputs": [],
   "source": []
  }
 ],
 "metadata": {
  "kernelspec": {
   "display_name": "Python 3 (ipykernel)",
   "language": "python",
   "name": "python3"
  },
  "language_info": {
   "codemirror_mode": {
    "name": "ipython",
    "version": 3
   },
   "file_extension": ".py",
   "mimetype": "text/x-python",
   "name": "python",
   "nbconvert_exporter": "python",
   "pygments_lexer": "ipython3",
   "version": "3.10.12"
  }
 },
 "nbformat": 4,
 "nbformat_minor": 5
}
